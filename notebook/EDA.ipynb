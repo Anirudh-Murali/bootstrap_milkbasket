{
 "cells": [
  {
   "cell_type": "code",
   "execution_count": 2,
   "metadata": {},
   "outputs": [],
   "source": [
    "import pandas as pd\n",
    "import seaborn as sns\n",
    "import numpy as np\n",
    "from tqdm import tqdm\n",
    "from datetime import datetime  "
   ]
  },
  {
   "cell_type": "code",
   "execution_count": 2,
   "metadata": {},
   "outputs": [],
   "source": [
    "# df = pd.read_csv(\"../data/hackathon_data.csv\")\n",
    "# df.head()"
   ]
  },
  {
   "cell_type": "code",
   "execution_count": null,
   "metadata": {},
   "outputs": [],
   "source": []
  },
  {
   "cell_type": "code",
   "execution_count": 3,
   "metadata": {},
   "outputs": [],
   "source": [
    "# def get_uniques_stats(df):\n",
    "#     unique_stats = {}\n",
    "#     for col in df.columns:\n",
    "#         unique_stats[col] = len(df[col].unique())\n",
    "#     print(unique_stats)\n",
    "#     print()"
   ]
  },
  {
   "cell_type": "code",
   "execution_count": 4,
   "metadata": {},
   "outputs": [],
   "source": [
    "# get_uniques_stats(df)"
   ]
  },
  {
   "cell_type": "markdown",
   "metadata": {},
   "source": [
    "### Hierarchy \n",
    "1. 7 cites"
   ]
  },
  {
   "cell_type": "code",
   "execution_count": 5,
   "metadata": {},
   "outputs": [],
   "source": [
    "# cities = df.city_id.unique()\n",
    "# for city in cities:\n",
    "#     print(city)\n",
    "#     get_uniques_stats(df.loc[df.city_id ==city])"
   ]
  },
  {
   "cell_type": "code",
   "execution_count": 6,
   "metadata": {},
   "outputs": [],
   "source": [
    "# city = 1120784\n",
    "# df = df.loc[df.city_id == city]\n",
    "# # pd.DataFrame(df.society_id.unique(),columns=[\"city_id\"]).to_csv(\"societies_of_selected_society.csv\",index=None)"
   ]
  },
  {
   "cell_type": "code",
   "execution_count": 3,
   "metadata": {},
   "outputs": [
    {
     "data": {
      "text/html": [
       "<div>\n",
       "<style scoped>\n",
       "    .dataframe tbody tr th:only-of-type {\n",
       "        vertical-align: middle;\n",
       "    }\n",
       "\n",
       "    .dataframe tbody tr th {\n",
       "        vertical-align: top;\n",
       "    }\n",
       "\n",
       "    .dataframe thead th {\n",
       "        text-align: right;\n",
       "    }\n",
       "</style>\n",
       "<table border=\"1\" class=\"dataframe\">\n",
       "  <thead>\n",
       "    <tr style=\"text-align: right;\">\n",
       "      <th></th>\n",
       "      <th>customer_id</th>\n",
       "      <th>manufacturer_id</th>\n",
       "      <th>society_id</th>\n",
       "      <th>city_id</th>\n",
       "      <th>route_id</th>\n",
       "      <th>store_id</th>\n",
       "      <th>order_id</th>\n",
       "      <th>order_date</th>\n",
       "      <th>category_id</th>\n",
       "      <th>subcategory_id</th>\n",
       "      <th>...</th>\n",
       "      <th>order_placed_month</th>\n",
       "      <th>order_placed_day_of_week</th>\n",
       "      <th>order_placed_hour</th>\n",
       "      <th>order_day</th>\n",
       "      <th>order_week</th>\n",
       "      <th>order_month</th>\n",
       "      <th>order_day_of_week</th>\n",
       "      <th>lat</th>\n",
       "      <th>long</th>\n",
       "      <th>area</th>\n",
       "    </tr>\n",
       "  </thead>\n",
       "  <tbody>\n",
       "    <tr>\n",
       "      <th>0</th>\n",
       "      <td>20049456</td>\n",
       "      <td>1148224</td>\n",
       "      <td>1267056</td>\n",
       "      <td>1120784</td>\n",
       "      <td>1138032</td>\n",
       "      <td>1120112</td>\n",
       "      <td>734536432</td>\n",
       "      <td>2019-01-27 00:00:00</td>\n",
       "      <td>1122464</td>\n",
       "      <td>1124816</td>\n",
       "      <td>...</td>\n",
       "      <td>1</td>\n",
       "      <td>5</td>\n",
       "      <td>12</td>\n",
       "      <td>27</td>\n",
       "      <td>4</td>\n",
       "      <td>1</td>\n",
       "      <td>6</td>\n",
       "      <td>18.485728</td>\n",
       "      <td>73.802289</td>\n",
       "      <td>0</td>\n",
       "    </tr>\n",
       "    <tr>\n",
       "      <th>1</th>\n",
       "      <td>20164592</td>\n",
       "      <td>1122016</td>\n",
       "      <td>1256416</td>\n",
       "      <td>1120784</td>\n",
       "      <td>1137248</td>\n",
       "      <td>1120112</td>\n",
       "      <td>734763008</td>\n",
       "      <td>2019-01-27 00:00:00</td>\n",
       "      <td>1122576</td>\n",
       "      <td>1125152</td>\n",
       "      <td>...</td>\n",
       "      <td>1</td>\n",
       "      <td>5</td>\n",
       "      <td>20</td>\n",
       "      <td>27</td>\n",
       "      <td>4</td>\n",
       "      <td>1</td>\n",
       "      <td>6</td>\n",
       "      <td>18.469226</td>\n",
       "      <td>73.803260</td>\n",
       "      <td>0</td>\n",
       "    </tr>\n",
       "    <tr>\n",
       "      <th>2</th>\n",
       "      <td>20049456</td>\n",
       "      <td>1155504</td>\n",
       "      <td>1267056</td>\n",
       "      <td>1120784</td>\n",
       "      <td>1138032</td>\n",
       "      <td>1120112</td>\n",
       "      <td>734536432</td>\n",
       "      <td>2019-01-27 00:00:00</td>\n",
       "      <td>1122800</td>\n",
       "      <td>1126496</td>\n",
       "      <td>...</td>\n",
       "      <td>1</td>\n",
       "      <td>5</td>\n",
       "      <td>13</td>\n",
       "      <td>27</td>\n",
       "      <td>4</td>\n",
       "      <td>1</td>\n",
       "      <td>6</td>\n",
       "      <td>18.485728</td>\n",
       "      <td>73.802289</td>\n",
       "      <td>0</td>\n",
       "    </tr>\n",
       "    <tr>\n",
       "      <th>3</th>\n",
       "      <td>20049456</td>\n",
       "      <td>1127728</td>\n",
       "      <td>1267056</td>\n",
       "      <td>1120784</td>\n",
       "      <td>1138032</td>\n",
       "      <td>1120112</td>\n",
       "      <td>734536432</td>\n",
       "      <td>2019-01-27 00:00:00</td>\n",
       "      <td>1122800</td>\n",
       "      <td>1126160</td>\n",
       "      <td>...</td>\n",
       "      <td>1</td>\n",
       "      <td>5</td>\n",
       "      <td>13</td>\n",
       "      <td>27</td>\n",
       "      <td>4</td>\n",
       "      <td>1</td>\n",
       "      <td>6</td>\n",
       "      <td>18.485728</td>\n",
       "      <td>73.802289</td>\n",
       "      <td>0</td>\n",
       "    </tr>\n",
       "    <tr>\n",
       "      <th>4</th>\n",
       "      <td>20164592</td>\n",
       "      <td>1150128</td>\n",
       "      <td>1256416</td>\n",
       "      <td>1120784</td>\n",
       "      <td>1137248</td>\n",
       "      <td>1120112</td>\n",
       "      <td>734763008</td>\n",
       "      <td>2019-01-27 00:00:00</td>\n",
       "      <td>1123472</td>\n",
       "      <td>1130640</td>\n",
       "      <td>...</td>\n",
       "      <td>1</td>\n",
       "      <td>5</td>\n",
       "      <td>20</td>\n",
       "      <td>27</td>\n",
       "      <td>4</td>\n",
       "      <td>1</td>\n",
       "      <td>6</td>\n",
       "      <td>18.469226</td>\n",
       "      <td>73.803260</td>\n",
       "      <td>0</td>\n",
       "    </tr>\n",
       "  </tbody>\n",
       "</table>\n",
       "<p>5 rows × 28 columns</p>\n",
       "</div>"
      ],
      "text/plain": [
       "   customer_id  manufacturer_id  society_id  city_id  route_id  store_id  \\\n",
       "0     20049456          1148224     1267056  1120784   1138032   1120112   \n",
       "1     20164592          1122016     1256416  1120784   1137248   1120112   \n",
       "2     20049456          1155504     1267056  1120784   1138032   1120112   \n",
       "3     20049456          1127728     1267056  1120784   1138032   1120112   \n",
       "4     20164592          1150128     1256416  1120784   1137248   1120112   \n",
       "\n",
       "    order_id           order_date  category_id  subcategory_id  ...  \\\n",
       "0  734536432  2019-01-27 00:00:00      1122464         1124816  ...   \n",
       "1  734763008  2019-01-27 00:00:00      1122576         1125152  ...   \n",
       "2  734536432  2019-01-27 00:00:00      1122800         1126496  ...   \n",
       "3  734536432  2019-01-27 00:00:00      1122800         1126160  ...   \n",
       "4  734763008  2019-01-27 00:00:00      1123472         1130640  ...   \n",
       "\n",
       "   order_placed_month  order_placed_day_of_week  order_placed_hour  order_day  \\\n",
       "0                   1                         5                 12         27   \n",
       "1                   1                         5                 20         27   \n",
       "2                   1                         5                 13         27   \n",
       "3                   1                         5                 13         27   \n",
       "4                   1                         5                 20         27   \n",
       "\n",
       "   order_week order_month order_day_of_week        lat       long  area  \n",
       "0           4           1                 6  18.485728  73.802289     0  \n",
       "1           4           1                 6  18.469226  73.803260     0  \n",
       "2           4           1                 6  18.485728  73.802289     0  \n",
       "3           4           1                 6  18.485728  73.802289     0  \n",
       "4           4           1                 6  18.469226  73.803260     0  \n",
       "\n",
       "[5 rows x 28 columns]"
      ]
     },
     "execution_count": 3,
     "metadata": {},
     "output_type": "execute_result"
    }
   ],
   "source": [
    "df = pd.read_csv(\"City_Subset.csv\")\n",
    "df.head()"
   ]
  },
  {
   "cell_type": "code",
   "execution_count": null,
   "metadata": {},
   "outputs": [],
   "source": [
    "# df = pd.read_csv(\"City_Subset.csv\")\n",
    "df.order_date = pd.to_datetime(df.order_date,format='%Y-%m-%d') \n",
    "df.product_addedtobasket_on = pd.to_datetime(df.product_addedtobasket_on,format='%Y-%m-%d %H:%M') \n",
    "\n",
    "\n",
    "df[\"order_placed_date\"] = df.product_addedtobasket_on.apply(lambda x: x.date())\n",
    "df[\"order_placed_day\"] = df.product_addedtobasket_on.apply(lambda x: x.day)\n",
    "df[\"order_placed_month\"] = df.product_addedtobasket_on.apply(lambda x: x.month)\n",
    "df[\"order_placed_day_of_week\"] = df.product_addedtobasket_on.apply(lambda x: x.dayofweek)\n",
    "df[\"order_placed_hour\"] = df.product_addedtobasket_on.apply(lambda x: x.hour)\n",
    "df[\"order_day\"] = df.order_date.apply(lambda x: x.day)\n",
    "df[\"order_week\"] = df.order_date.apply(lambda x: x.isocalendar()[1])\n",
    "df[\"order_month\"] = df.order_date.apply(lambda x: x.month)\n",
    "df[\"order_day_of_week\"] = df.order_date.apply(lambda x: x.dayofweek)\n",
    "\n",
    "# # "
   ]
  },
  {
   "cell_type": "code",
   "execution_count": null,
   "metadata": {},
   "outputs": [],
   "source": [
    "df.head()"
   ]
  },
  {
   "cell_type": "code",
   "execution_count": null,
   "metadata": {},
   "outputs": [],
   "source": [
    "df.to_csv(\"City_Subset_with_TimeSeries.csv\",index=None)"
   ]
  },
  {
   "cell_type": "markdown",
   "metadata": {},
   "source": [
    "#### Same Society can fall into different routes"
   ]
  },
  {
   "cell_type": "markdown",
   "metadata": {},
   "source": [
    "1. Society_ID and Route Id \n",
    "Hierarchy:\n",
    "1. City -> Route_ID -> Society_ID\n",
    "2. City -> Store_ID ->Route_ID -> Society_ID\n",
    "\n",
    "Need to understand the following\n",
    "1. Subscription\n",
    "2. manufacturer_id"
   ]
  },
  {
   "cell_type": "markdown",
   "metadata": {},
   "source": [
    "## User Specific Analysis"
   ]
  },
  {
   "cell_type": "code",
   "execution_count": 8,
   "metadata": {},
   "outputs": [],
   "source": [
    "df = pd.read_csv(\"../data/City_Subset_with_TimeSeries.csv\")\n",
    "\n",
    "df.order_date = pd.to_datetime(df.order_date,format='%Y-%m-%d') \n",
    "df.product_addedtobasket_on = pd.to_datetime(df.product_addedtobasket_on,format='%Y-%m-%d %H:%M') "
   ]
  },
  {
   "cell_type": "code",
   "execution_count": 9,
   "metadata": {},
   "outputs": [],
   "source": [
    "society_lat_long = pd.read_csv(\"../data/societies_latlong.csv\")\n",
    "# society_lat_long.head()\n",
    "society_lat_long = society_lat_long.set_index(\"society_id\")\n",
    "df[\"lat\"] = df.society_id.apply(lambda x: society_lat_long[\"lat\"][x])\n",
    "df[\"long\"] = df.society_id.apply(lambda x: society_lat_long[\"long\"][x])\n",
    "df[\"area\"] = df.society_id.apply(lambda x: society_lat_long[\"area\"][x])"
   ]
  },
  {
   "cell_type": "code",
   "execution_count": 10,
   "metadata": {},
   "outputs": [],
   "source": [
    "df[\"lat\"] = df.society_id.apply(lambda x: society_lat_long[\"lat\"][x])\n",
    "df[\"long\"] = df.society_id.apply(lambda x: society_lat_long[\"long\"][x])\n",
    "df[\"area\"] = df.society_id.apply(lambda x: society_lat_long[\"area\"][x])\n",
    "# df"
   ]
  },
  {
   "cell_type": "code",
   "execution_count": 11,
   "metadata": {},
   "outputs": [],
   "source": [
    "def volume_quantile(splits, var, df, ID):    \n",
    "    df = df.sort_values([var])\n",
    "    df['CUM_VAR'] = df[var].cumsum()/df[var].sum()\n",
    "    \n",
    "    #restamp values >1\n",
    "    mask = df['CUM_VAR'] > 1\n",
    "    column_name = 'CUM_VAR'\n",
    "    df.loc[mask, column_name] = 1\n",
    "    \n",
    "    #create buckets\n",
    "    df['quintile'] = (df['CUM_VAR']*splits)\n",
    "    df['quintile'] = df['quintile'].apply(np.ceil)\n",
    "    \n",
    "    #stat summary\n",
    "#     results.groupby(['decile'])['mrkt_trx_vol'].sum()\n",
    "    print(df.groupby('quintile').agg({ID:'count', var: ['sum','max','min']}).reset_index())\n",
    "    \n",
    "    return df\n"
   ]
  },
  {
   "cell_type": "code",
   "execution_count": 12,
   "metadata": {},
   "outputs": [
    {
     "name": "stderr",
     "output_type": "stream",
     "text": [
      "100% |########################################################################|\n"
     ]
    },
    {
     "name": "stdout",
     "output_type": "stream",
     "text": [
      "  quintile       mean_weekly_cost                         \n",
      "           count              sum          max         min\n",
      "0      1.0   282     79997.115880   361.845484    3.941613\n",
      "1      2.0   195     79981.840025   455.260161  361.875161\n",
      "2      3.0   160     80200.889497   558.673871  456.325649\n",
      "3      4.0   128     80350.698929   708.007668  558.966345\n",
      "4      5.0    96     80453.750620  1384.566200  708.631677\n"
     ]
    }
   ],
   "source": [
    "import progressbar\n",
    "pbar = progressbar.ProgressBar()\n",
    "number_of_weeks = max(df.order_week)\n",
    "customer_data = []\n",
    "\n",
    "customers = df.customer_id.unique()\n",
    "df.order_date = pd.to_datetime(df.order_date,format='%Y-%m-%d') \n",
    "# df.product_addedtobasket_on = pd.to_datetime(df.product_addedtobasket_on,format='%Y-%m-%d %H:%M') \n",
    "date_range = int(str(max(df.order_date) - min(df.order_date)).split(\" \")[0])\n",
    "\n",
    "for customer in pbar(customers):\n",
    "    customer_df = df.loc[df.customer_id==customer]\n",
    "    \n",
    "    customer_df=customer_df.reset_index()\n",
    "    customer_row = {}\n",
    "    customer_row[\"customer_id\"] = customer\n",
    "    customer_row[\"society_id\"] = customer_df.society_id[0]\n",
    "    customer_row[\"mean_order_cost\"] = customer_df.groupby(by=\"order_date\")[\"total_cost\"].sum().mean()\n",
    "    customer_row[\"mean_weekly_cost\"] = customer_df.groupby(by=\"order_week\")[\"total_cost\"].sum().sum()/number_of_weeks\n",
    "    customer_row[\"mean_daily_cost\"] = (customer_df.groupby(by=\"order_week\")[\"total_cost\"].sum()).sum()/date_range\n",
    "    customer_data.append(customer_row)\n",
    "customer_data = pd.DataFrame(customer_data)\n",
    "customer_data = volume_quantile(5,\"mean_weekly_cost\",customer_data,\"quintile\")\n",
    "# customer_data\n"
   ]
  },
  {
   "cell_type": "code",
   "execution_count": 14,
   "metadata": {},
   "outputs": [],
   "source": [
    "customer_data.to_csv(\"../output/customer_intermediate.csv\",index=None)"
   ]
  },
  {
   "cell_type": "code",
   "execution_count": null,
   "metadata": {},
   "outputs": [],
   "source": []
  },
  {
   "cell_type": "code",
   "execution_count": 8,
   "metadata": {},
   "outputs": [
    {
     "data": {
      "text/html": [
       "<div>\n",
       "<style scoped>\n",
       "    .dataframe tbody tr th:only-of-type {\n",
       "        vertical-align: middle;\n",
       "    }\n",
       "\n",
       "    .dataframe tbody tr th {\n",
       "        vertical-align: top;\n",
       "    }\n",
       "\n",
       "    .dataframe thead th {\n",
       "        text-align: right;\n",
       "    }\n",
       "</style>\n",
       "<table border=\"1\" class=\"dataframe\">\n",
       "  <thead>\n",
       "    <tr style=\"text-align: right;\">\n",
       "      <th></th>\n",
       "      <th>customer_id</th>\n",
       "      <th>manufacturer_id</th>\n",
       "      <th>society_id</th>\n",
       "      <th>city_id</th>\n",
       "      <th>route_id</th>\n",
       "      <th>store_id</th>\n",
       "      <th>order_id</th>\n",
       "      <th>order_date</th>\n",
       "      <th>category_id</th>\n",
       "      <th>subcategory_id</th>\n",
       "      <th>...</th>\n",
       "      <th>order_placed_month</th>\n",
       "      <th>order_placed_day_of_week</th>\n",
       "      <th>order_placed_hour</th>\n",
       "      <th>order_day</th>\n",
       "      <th>order_week</th>\n",
       "      <th>order_month</th>\n",
       "      <th>order_day_of_week</th>\n",
       "      <th>lat</th>\n",
       "      <th>long</th>\n",
       "      <th>area</th>\n",
       "    </tr>\n",
       "  </thead>\n",
       "  <tbody>\n",
       "    <tr>\n",
       "      <th>0</th>\n",
       "      <td>20049456</td>\n",
       "      <td>1148224</td>\n",
       "      <td>1267056</td>\n",
       "      <td>1120784</td>\n",
       "      <td>1138032</td>\n",
       "      <td>1120112</td>\n",
       "      <td>734536432</td>\n",
       "      <td>2019-01-27</td>\n",
       "      <td>1122464</td>\n",
       "      <td>1124816</td>\n",
       "      <td>...</td>\n",
       "      <td>1</td>\n",
       "      <td>5</td>\n",
       "      <td>12</td>\n",
       "      <td>27</td>\n",
       "      <td>4</td>\n",
       "      <td>1</td>\n",
       "      <td>6</td>\n",
       "      <td>18.485728</td>\n",
       "      <td>73.802289</td>\n",
       "      <td>0</td>\n",
       "    </tr>\n",
       "    <tr>\n",
       "      <th>1</th>\n",
       "      <td>20164592</td>\n",
       "      <td>1122016</td>\n",
       "      <td>1256416</td>\n",
       "      <td>1120784</td>\n",
       "      <td>1137248</td>\n",
       "      <td>1120112</td>\n",
       "      <td>734763008</td>\n",
       "      <td>2019-01-27</td>\n",
       "      <td>1122576</td>\n",
       "      <td>1125152</td>\n",
       "      <td>...</td>\n",
       "      <td>1</td>\n",
       "      <td>5</td>\n",
       "      <td>20</td>\n",
       "      <td>27</td>\n",
       "      <td>4</td>\n",
       "      <td>1</td>\n",
       "      <td>6</td>\n",
       "      <td>18.469226</td>\n",
       "      <td>73.803260</td>\n",
       "      <td>0</td>\n",
       "    </tr>\n",
       "    <tr>\n",
       "      <th>2</th>\n",
       "      <td>20049456</td>\n",
       "      <td>1155504</td>\n",
       "      <td>1267056</td>\n",
       "      <td>1120784</td>\n",
       "      <td>1138032</td>\n",
       "      <td>1120112</td>\n",
       "      <td>734536432</td>\n",
       "      <td>2019-01-27</td>\n",
       "      <td>1122800</td>\n",
       "      <td>1126496</td>\n",
       "      <td>...</td>\n",
       "      <td>1</td>\n",
       "      <td>5</td>\n",
       "      <td>13</td>\n",
       "      <td>27</td>\n",
       "      <td>4</td>\n",
       "      <td>1</td>\n",
       "      <td>6</td>\n",
       "      <td>18.485728</td>\n",
       "      <td>73.802289</td>\n",
       "      <td>0</td>\n",
       "    </tr>\n",
       "    <tr>\n",
       "      <th>3</th>\n",
       "      <td>20049456</td>\n",
       "      <td>1127728</td>\n",
       "      <td>1267056</td>\n",
       "      <td>1120784</td>\n",
       "      <td>1138032</td>\n",
       "      <td>1120112</td>\n",
       "      <td>734536432</td>\n",
       "      <td>2019-01-27</td>\n",
       "      <td>1122800</td>\n",
       "      <td>1126160</td>\n",
       "      <td>...</td>\n",
       "      <td>1</td>\n",
       "      <td>5</td>\n",
       "      <td>13</td>\n",
       "      <td>27</td>\n",
       "      <td>4</td>\n",
       "      <td>1</td>\n",
       "      <td>6</td>\n",
       "      <td>18.485728</td>\n",
       "      <td>73.802289</td>\n",
       "      <td>0</td>\n",
       "    </tr>\n",
       "    <tr>\n",
       "      <th>4</th>\n",
       "      <td>20164592</td>\n",
       "      <td>1150128</td>\n",
       "      <td>1256416</td>\n",
       "      <td>1120784</td>\n",
       "      <td>1137248</td>\n",
       "      <td>1120112</td>\n",
       "      <td>734763008</td>\n",
       "      <td>2019-01-27</td>\n",
       "      <td>1123472</td>\n",
       "      <td>1130640</td>\n",
       "      <td>...</td>\n",
       "      <td>1</td>\n",
       "      <td>5</td>\n",
       "      <td>20</td>\n",
       "      <td>27</td>\n",
       "      <td>4</td>\n",
       "      <td>1</td>\n",
       "      <td>6</td>\n",
       "      <td>18.469226</td>\n",
       "      <td>73.803260</td>\n",
       "      <td>0</td>\n",
       "    </tr>\n",
       "  </tbody>\n",
       "</table>\n",
       "<p>5 rows × 28 columns</p>\n",
       "</div>"
      ],
      "text/plain": [
       "   customer_id  manufacturer_id  society_id  city_id  route_id  store_id  \\\n",
       "0     20049456          1148224     1267056  1120784   1138032   1120112   \n",
       "1     20164592          1122016     1256416  1120784   1137248   1120112   \n",
       "2     20049456          1155504     1267056  1120784   1138032   1120112   \n",
       "3     20049456          1127728     1267056  1120784   1138032   1120112   \n",
       "4     20164592          1150128     1256416  1120784   1137248   1120112   \n",
       "\n",
       "    order_id order_date  category_id  subcategory_id  ...  order_placed_month  \\\n",
       "0  734536432 2019-01-27      1122464         1124816  ...                   1   \n",
       "1  734763008 2019-01-27      1122576         1125152  ...                   1   \n",
       "2  734536432 2019-01-27      1122800         1126496  ...                   1   \n",
       "3  734536432 2019-01-27      1122800         1126160  ...                   1   \n",
       "4  734763008 2019-01-27      1123472         1130640  ...                   1   \n",
       "\n",
       "   order_placed_day_of_week  order_placed_hour  order_day  order_week  \\\n",
       "0                         5                 12         27           4   \n",
       "1                         5                 20         27           4   \n",
       "2                         5                 13         27           4   \n",
       "3                         5                 13         27           4   \n",
       "4                         5                 20         27           4   \n",
       "\n",
       "  order_month order_day_of_week        lat       long  area  \n",
       "0           1                 6  18.485728  73.802289     0  \n",
       "1           1                 6  18.469226  73.803260     0  \n",
       "2           1                 6  18.485728  73.802289     0  \n",
       "3           1                 6  18.485728  73.802289     0  \n",
       "4           1                 6  18.469226  73.803260     0  \n",
       "\n",
       "[5 rows x 28 columns]"
      ]
     },
     "execution_count": 8,
     "metadata": {},
     "output_type": "execute_result"
    }
   ],
   "source": [
    "df.head()"
   ]
  },
  {
   "cell_type": "code",
   "execution_count": 51,
   "metadata": {},
   "outputs": [
    {
     "name": "stderr",
     "output_type": "stream",
     "text": [
      "100%|██████████████████████████████████████████████████████████████████████████████████| 14/14 [00:00<00:00, 40.71it/s]\n"
     ]
    },
    {
     "name": "stdout",
     "output_type": "stream",
     "text": [
      "  quintile       mean_weekly_cost                            \n",
      "           count              sum           max           min\n",
      "0      1.0     4     60601.821477  21866.231947   3158.173441\n",
      "1      2.0     3     77058.884292  25713.297041  25654.110733\n",
      "2      3.0     3     94239.723914  33320.868010  28688.177391\n",
      "3      4.0     2     75766.233319  38950.624467  36815.608852\n",
      "4      5.0     2     93317.631948  48561.629285  44756.002663\n"
     ]
    }
   ],
   "source": [
    "number_of_weeks = max(df.order_week)\n",
    "area_data = []\n",
    "pbar = progressbar.ProgressBar()\n",
    "areas = df.area.unique()\n",
    "\n",
    "for area in tqdm(areas):\n",
    "    area_df = df.loc[df.area==area]\n",
    "    \n",
    "    area_df = area_df.reset_index()\n",
    "    area_row = {}\n",
    "    area_row[\"area\"] = area\n",
    "#     pod_row[\"lat\"] = society_df.lat[0]\n",
    "#     society_row[\"long\"] = society_df.long[0]\n",
    "#     society_row[\"customer_id\"] = society_df.customer_id[0]\n",
    "    area_row[\"mean_order_cost\"] = area_df.groupby(by=\"order_date\")[\"total_cost\"].sum().mean()\n",
    "    area_row[\"mean_weekly_cost\"] = area_df.groupby(by=\"order_week\")[\"total_cost\"].sum().sum()/number_of_weeks\n",
    "    area_row[\"mean_daily_cost\"] = (area_df.groupby(by=\"order_week\")[\"total_cost\"].sum()).sum()/date_range\n",
    "    area_data.append(area_row)\n",
    "area_data = pd.DataFrame(area_data)\n",
    "area_data = volume_quantile(5,\"mean_weekly_cost\",area_data,\"quintile\")\n",
    "# society_data"
   ]
  },
  {
   "cell_type": "code",
   "execution_count": null,
   "metadata": {},
   "outputs": [],
   "source": []
  },
  {
   "cell_type": "code",
   "execution_count": 13,
   "metadata": {},
   "outputs": [
    {
     "name": "stderr",
     "output_type": "stream",
     "text": [
      "100% |########################################################################|\n"
     ]
    },
    {
     "name": "stdout",
     "output_type": "stream",
     "text": [
      "  quintile       mean_weekly_cost                          \n",
      "           count              sum          max          min\n",
      "0      1.0   149     79446.562446   959.314277     5.005484\n",
      "1      2.0    65     79748.836754  1453.956604   960.300484\n",
      "2      3.0    46     80063.817862  1993.551427  1454.786557\n",
      "3      4.0    34     79205.073399  2785.329484  1995.697751\n",
      "4      5.0    20     82520.004490  8597.832726  2785.484097\n"
     ]
    }
   ],
   "source": [
    "number_of_weeks = max(df.order_week)\n",
    "society_data = []\n",
    "pbar = progressbar.ProgressBar()\n",
    "societies = df.society_id.unique()\n",
    "date_range = int(str(max(df.order_date) - min(df.order_date)).split(\" \")[0])\n",
    "\n",
    "for society in pbar(societies):\n",
    "    society_df = df.loc[df.society_id==society]\n",
    "    \n",
    "    society_df=society_df.reset_index()\n",
    "    society_row = {}\n",
    "    society_row[\"society_id\"] = society\n",
    "    society_row[\"area\"] = society_df.area[0]\n",
    "    society_row[\"lat\"] = society_df.lat[0]\n",
    "    society_row[\"long\"] = society_df.long[0]\n",
    "#     society_row[\"customer_id\"] = society_df.customer_id[0]\n",
    "    society_row[\"mean_order_cost\"] = society_df.groupby(by=\"order_date\")[\"total_cost\"].sum().mean()\n",
    "    society_row[\"mean_weekly_cost\"] = society_df.groupby(by=\"order_week\")[\"total_cost\"].sum().sum()/number_of_weeks\n",
    "    society_row[\"mean_daily_cost\"] = (society_df.groupby(by=\"order_week\")[\"total_cost\"].sum()).sum()/date_range\n",
    "    society_data.append(society_row)\n",
    "society_data = pd.DataFrame(society_data)\n",
    "society_data = volume_quantile(5,\"mean_weekly_cost\",society_data,\"quintile\")\n",
    "# society_data"
   ]
  },
  {
   "cell_type": "code",
   "execution_count": 116,
   "metadata": {},
   "outputs": [],
   "source": [
    "# pbar = progressbar.ProgressBar()\n",
    "# pods = df.pod.unique()\n",
    "# date_range = int(str(max(df.order_date) - min(df.order_date)).split(\" \")[0])\n",
    "# product_society = []\n",
    "# from joblib import Parallel, delayed\n",
    "# from tqdm import tqdm\n",
    "\n",
    "# def get_product_data(pod):\n",
    "#     pod_df = df.loc[df.pod==pod]\n",
    "#     products = pod_df.product_id.unique()\n",
    "#     product_data = []\n",
    "#     final = {}\n",
    "#     for product in products:\n",
    "#         product_df = pod_df.loc[pod_df.product_id == product]\n",
    "#         product_df=product_df.reset_index()\n",
    "#         product_row = {}\n",
    "#         product_row[\"product_id\"] = product\n",
    "#         product_row[\"mean_order_cost\"] = product_df.groupby(by=\"order_date\")[\"total_cost\"].sum().mean()\n",
    "#         product_row[\"mean_weekly_cost\"] = product_df.groupby(by=\"order_week\")[\"total_cost\"].sum().sum()/number_of_weeks\n",
    "#         product_row[\"mean_daily_cost\"] = (product_df.groupby(by=\"order_week\")[\"total_cost\"].sum()).sum()/date_range\n",
    "#         product_data.append(product_row)\n",
    "#     product_data = pd.DataFrame(product_data)\n",
    "\n",
    "# #     product_data = volume_quantile(5,\"mean_weekly_cost\",product_data,\"quintile\")\n",
    "#     final[pod] = product_data\n",
    "#     return final\n",
    "# # pod_product = Parallel(n_jobs=8)(delayed(get_product_data)(pod) for pod in tqdm(pods))\n",
    "# pod_product = []\n",
    "# for pod in tqdm(pods):\n",
    "#     pod_product.append(get_product_data(pod))\n",
    "#     break\n",
    "# pod_product[0]"
   ]
  },
  {
   "cell_type": "code",
   "execution_count": 117,
   "metadata": {},
   "outputs": [],
   "source": [
    "# pod_product[9]"
   ]
  },
  {
   "cell_type": "code",
   "execution_count": null,
   "metadata": {},
   "outputs": [],
   "source": []
  },
  {
   "cell_type": "code",
   "execution_count": 118,
   "metadata": {},
   "outputs": [],
   "source": [
    "# society_product"
   ]
  },
  {
   "cell_type": "code",
   "execution_count": null,
   "metadata": {},
   "outputs": [],
   "source": []
  },
  {
   "cell_type": "code",
   "execution_count": 119,
   "metadata": {},
   "outputs": [],
   "source": [
    "society_data.to_csv(\"../output/society.csv\",index=None)"
   ]
  },
  {
   "cell_type": "code",
   "execution_count": null,
   "metadata": {},
   "outputs": [],
   "source": []
  },
  {
   "cell_type": "code",
   "execution_count": 148,
   "metadata": {},
   "outputs": [
    {
     "data": {
      "text/plain": [
       "15"
      ]
     },
     "execution_count": 148,
     "metadata": {},
     "output_type": "execute_result"
    }
   ],
   "source": [
    "Area_centers = [\n",
    "  {\n",
    "    \"lat\": 18.464815,\n",
    "    \"long\": 73.796439\n",
    "  },\n",
    "  {\n",
    "    \"lat\": 18.507762,\n",
    "    \"long\": 73.798775\n",
    "  },\n",
    "  {\n",
    "    \"lat\": 18.52517,\n",
    "    \"long\": 73.779009\n",
    "  },\n",
    "  {\n",
    "    \"lat\": 18.56792,\n",
    "    \"long\": 73.770989\n",
    "  },\n",
    "  {\n",
    "    \"lat\": 18.556043,\n",
    "    \"long\": 73.812341\n",
    "  },\n",
    "  {\n",
    "    \"lat\": 18.683466,\n",
    "    \"long\": 73.731081\n",
    "  },\n",
    "  {\n",
    "    \"lat\": 18.665461,\n",
    "    \"long\": 73.808566\n",
    "  },\n",
    "  {\n",
    "    \"lat\": 18.565205,\n",
    "    \"long\": 73.911494\n",
    "  },\n",
    "  {\n",
    "    \"lat\": 18.529224,\n",
    "    \"long\": 73.860415\n",
    "  },\n",
    "  {\n",
    "    \"lat\": 18.435227,\n",
    "    \"long\": 73.889246\n",
    "  },\n",
    "  {\n",
    "    \"lat\": 18.50861,\n",
    "    \"long\": 73.934341\n",
    "  },\n",
    "  {\n",
    "    \"lat\": 18.635565,\n",
    "    \"long\": 73.843959\n",
    "  },\n",
    "  {\n",
    "    \"lat\": 18.606168,\n",
    "    \"long\": 73.874991\n",
    "  },\n",
    "  \n",
    "  {\n",
    "    \"lat\": 18.599301,\n",
    "    \"long\": 73.927049\n",
    "  },\n",
    "  {\n",
    "    \"lat\": 18.59913,\n",
    "    \"long\": 73.737242\n",
    "  }\n",
    "]\n",
    "\n",
    "warehouse = {\n",
    "    \"lat\": 18.676853,\n",
    "    \"long\": 73.897229\n",
    "  }\n",
    "len(Area_centers)"
   ]
  },
  {
   "cell_type": "code",
   "execution_count": 149,
   "metadata": {},
   "outputs": [],
   "source": [
    "area_lat = []\n",
    "area_long = []\n",
    "for i in range(0,len(df.area.unique())):\n",
    "    temp = df.loc[df.area == i]\n",
    "    temp = temp.reset_index()\n",
    "    area_lat.append(temp.lat[0])\n",
    "    area_long.append(temp.long[0])"
   ]
  },
  {
   "cell_type": "code",
   "execution_count": 150,
   "metadata": {},
   "outputs": [],
   "source": [
    "import geopy.distance\n",
    "\n",
    "def getDistance(lat1, long1, lat2=warehouse['lat'], long2=warehouse['long']):\n",
    "    return geopy.distance.distance((lat1, long1), (lat2, long2)).km\n",
    "# print(len(Area_centers))\n",
    "# print(len(distance_from_ware_house))"
   ]
  },
  {
   "cell_type": "code",
   "execution_count": 151,
   "metadata": {},
   "outputs": [
    {
     "data": {
      "text/plain": [
       "[23.408587636109765,\n",
       " 20.98645022630737,\n",
       " 19.861086474058528,\n",
       " 17.00805355415304,\n",
       " 16.536194774308466,\n",
       " 18.165195229996627,\n",
       " 7.329556595698092,\n",
       " 12.295152117974828,\n",
       " 18.66078752896899,\n",
       " 27.946354920052126,\n",
       " 17.022022528930627,\n",
       " 7.074805049948809,\n",
       " 7.072476862470887,\n",
       " 8.244048838148595]"
      ]
     },
     "execution_count": 151,
     "metadata": {},
     "output_type": "execute_result"
    }
   ],
   "source": [
    "distance_from_ware_house = []\n",
    "for i in range(0,len(df.area.unique())):\n",
    "    distance_from_ware_house.append(getDistance(area_lat[i],area_long[i]))\n",
    "distance_from_ware_house\n"
   ]
  },
  {
   "cell_type": "code",
   "execution_count": 152,
   "metadata": {},
   "outputs": [
    {
     "data": {
      "text/plain": [
       "14"
      ]
     },
     "execution_count": 152,
     "metadata": {},
     "output_type": "execute_result"
    }
   ],
   "source": [
    "area_priority=society_data.groupby(\"area\")[\"quintile\"].mean()\n",
    "area_priority = area_priority.tolist()\n",
    "len(distance_from_ware_house)"
   ]
  },
  {
   "cell_type": "code",
   "execution_count": 153,
   "metadata": {},
   "outputs": [],
   "source": [
    "area_priority=society_data.groupby(\"area\")[\"quintile\"].mean()\n",
    "pod_check = pd.DataFrame()\n",
    "pod_check[\"area_priority\"] = area_priority\n",
    "pod_check[\"lat\"] = area_lat\n",
    "pod_check[\"long\"] = area_long\n",
    "# pod_check[\"area_id\"] = pod_check.index\n",
    "pod_check[\"distance_from_ware_house\"] = distance_from_ware_house\n",
    "pod_check = pod_check.sort_values([\"area_priority\"],ascending=False)\n",
    "pod_check = pod_check.reset_index()"
   ]
  },
  {
   "cell_type": "code",
   "execution_count": 154,
   "metadata": {},
   "outputs": [
    {
     "data": {
      "text/html": [
       "<div>\n",
       "<style scoped>\n",
       "    .dataframe tbody tr th:only-of-type {\n",
       "        vertical-align: middle;\n",
       "    }\n",
       "\n",
       "    .dataframe tbody tr th {\n",
       "        vertical-align: top;\n",
       "    }\n",
       "\n",
       "    .dataframe thead th {\n",
       "        text-align: right;\n",
       "    }\n",
       "</style>\n",
       "<table border=\"1\" class=\"dataframe\">\n",
       "  <thead>\n",
       "    <tr style=\"text-align: right;\">\n",
       "      <th></th>\n",
       "      <th>area</th>\n",
       "      <th>area_priority</th>\n",
       "      <th>lat</th>\n",
       "      <th>long</th>\n",
       "      <th>distance_from_ware_house</th>\n",
       "    </tr>\n",
       "  </thead>\n",
       "  <tbody>\n",
       "    <tr>\n",
       "      <th>0</th>\n",
       "      <td>0</td>\n",
       "      <td>2.666667</td>\n",
       "      <td>18.485728</td>\n",
       "      <td>73.802289</td>\n",
       "      <td>23.408588</td>\n",
       "    </tr>\n",
       "    <tr>\n",
       "      <th>1</th>\n",
       "      <td>2</td>\n",
       "      <td>2.636364</td>\n",
       "      <td>18.526163</td>\n",
       "      <td>73.795066</td>\n",
       "      <td>19.861086</td>\n",
       "    </tr>\n",
       "    <tr>\n",
       "      <th>2</th>\n",
       "      <td>5</td>\n",
       "      <td>2.629630</td>\n",
       "      <td>18.681886</td>\n",
       "      <td>73.725115</td>\n",
       "      <td>18.165195</td>\n",
       "    </tr>\n",
       "    <tr>\n",
       "      <th>3</th>\n",
       "      <td>6</td>\n",
       "      <td>2.481481</td>\n",
       "      <td>18.670743</td>\n",
       "      <td>73.828048</td>\n",
       "      <td>7.329557</td>\n",
       "    </tr>\n",
       "    <tr>\n",
       "      <th>4</th>\n",
       "      <td>3</td>\n",
       "      <td>2.388889</td>\n",
       "      <td>18.572750</td>\n",
       "      <td>73.778681</td>\n",
       "      <td>17.008054</td>\n",
       "    </tr>\n",
       "    <tr>\n",
       "      <th>5</th>\n",
       "      <td>1</td>\n",
       "      <td>2.269231</td>\n",
       "      <td>18.513894</td>\n",
       "      <td>73.795588</td>\n",
       "      <td>20.986450</td>\n",
       "    </tr>\n",
       "    <tr>\n",
       "      <th>6</th>\n",
       "      <td>4</td>\n",
       "      <td>2.266667</td>\n",
       "      <td>18.546868</td>\n",
       "      <td>73.819992</td>\n",
       "      <td>16.536195</td>\n",
       "    </tr>\n",
       "    <tr>\n",
       "      <th>7</th>\n",
       "      <td>8</td>\n",
       "      <td>2.181818</td>\n",
       "      <td>18.512602</td>\n",
       "      <td>73.857374</td>\n",
       "      <td>18.660788</td>\n",
       "    </tr>\n",
       "    <tr>\n",
       "      <th>8</th>\n",
       "      <td>10</td>\n",
       "      <td>1.960000</td>\n",
       "      <td>18.525055</td>\n",
       "      <td>73.923069</td>\n",
       "      <td>17.022023</td>\n",
       "    </tr>\n",
       "    <tr>\n",
       "      <th>9</th>\n",
       "      <td>9</td>\n",
       "      <td>1.913043</td>\n",
       "      <td>18.425186</td>\n",
       "      <td>73.875990</td>\n",
       "      <td>27.946355</td>\n",
       "    </tr>\n",
       "    <tr>\n",
       "      <th>10</th>\n",
       "      <td>7</td>\n",
       "      <td>1.629630</td>\n",
       "      <td>18.567508</td>\n",
       "      <td>73.917738</td>\n",
       "      <td>12.295152</td>\n",
       "    </tr>\n",
       "    <tr>\n",
       "      <th>11</th>\n",
       "      <td>11</td>\n",
       "      <td>1.500000</td>\n",
       "      <td>18.633523</td>\n",
       "      <td>73.847934</td>\n",
       "      <td>7.074805</td>\n",
       "    </tr>\n",
       "    <tr>\n",
       "      <th>12</th>\n",
       "      <td>12</td>\n",
       "      <td>1.074074</td>\n",
       "      <td>18.616141</td>\n",
       "      <td>73.876334</td>\n",
       "      <td>7.072477</td>\n",
       "    </tr>\n",
       "    <tr>\n",
       "      <th>13</th>\n",
       "      <td>13</td>\n",
       "      <td>1.000000</td>\n",
       "      <td>18.605777</td>\n",
       "      <td>73.920581</td>\n",
       "      <td>8.244049</td>\n",
       "    </tr>\n",
       "  </tbody>\n",
       "</table>\n",
       "</div>"
      ],
      "text/plain": [
       "    area  area_priority        lat       long  distance_from_ware_house\n",
       "0      0       2.666667  18.485728  73.802289                 23.408588\n",
       "1      2       2.636364  18.526163  73.795066                 19.861086\n",
       "2      5       2.629630  18.681886  73.725115                 18.165195\n",
       "3      6       2.481481  18.670743  73.828048                  7.329557\n",
       "4      3       2.388889  18.572750  73.778681                 17.008054\n",
       "5      1       2.269231  18.513894  73.795588                 20.986450\n",
       "6      4       2.266667  18.546868  73.819992                 16.536195\n",
       "7      8       2.181818  18.512602  73.857374                 18.660788\n",
       "8     10       1.960000  18.525055  73.923069                 17.022023\n",
       "9      9       1.913043  18.425186  73.875990                 27.946355\n",
       "10     7       1.629630  18.567508  73.917738                 12.295152\n",
       "11    11       1.500000  18.633523  73.847934                  7.074805\n",
       "12    12       1.074074  18.616141  73.876334                  7.072477\n",
       "13    13       1.000000  18.605777  73.920581                  8.244049"
      ]
     },
     "execution_count": 154,
     "metadata": {},
     "output_type": "execute_result"
    }
   ],
   "source": [
    "pod_check"
   ]
  },
  {
   "cell_type": "markdown",
   "metadata": {},
   "source": [
    "# def get_pods(col):\n",
    "distance_from_pod_1"
   ]
  },
  {
   "cell_type": "code",
   "execution_count": 155,
   "metadata": {},
   "outputs": [],
   "source": [
    "def opt(col,p):\n",
    "    pods = []\n",
    "    for index,row in pod_check.iterrows():\n",
    "        if index < p:\n",
    "            continue\n",
    "        if row.area_priority > 2.2:\n",
    "            if row[col] > 5:\n",
    "                \n",
    "                distance_from_pod = []\n",
    "                new_pod = row\n",
    "                \n",
    "                for i in range(0,len(df.area.unique())):\n",
    "                    distance_from_pod.append(getDistance(pod_check.lat[i],pod_check.long[i],new_pod.lat,new_pod.long))\n",
    "#                 pod_check[\"distance_from_pod\"+str(p)] = distance_from_pod\n",
    "                return distance_from_pod\n"
   ]
  },
  {
   "cell_type": "code",
   "execution_count": 161,
   "metadata": {},
   "outputs": [],
   "source": [
    "\n"
   ]
  },
  {
   "cell_type": "code",
   "execution_count": null,
   "metadata": {},
   "outputs": [],
   "source": []
  },
  {
   "cell_type": "code",
   "execution_count": 157,
   "metadata": {},
   "outputs": [],
   "source": [
    "pod_check.to_csv(\"../output/pod_data.csv\",index=None)"
   ]
  },
  {
   "cell_type": "code",
   "execution_count": 81,
   "metadata": {},
   "outputs": [],
   "source": [
    "# col = [\"distance_from_ware_house\"]\n",
    "\n",
    "pods = []\n",
    "for index,row in pod_check.iterrows():\n",
    "    if row.area_priority > 2.2:\n",
    "        distance_from_pod_1 = []\n",
    "        if row.distance_from_ware_house > 5:\n",
    "            pods.append(row.area)\n",
    "            for i in range(0,len(df.area.unique())):\n",
    "                distance_from_pod_1.append(getDistance(pod_check.lat[i],pod_check.long[i],pods[],pods[]))\n",
    "            break\n",
    "distance_from_ware_house = []\n"
   ]
  },
  {
   "cell_type": "code",
   "execution_count": 82,
   "metadata": {},
   "outputs": [
    {
     "data": {
      "text/plain": [
       "[23.408587636109765,\n",
       " 19.861086474058528,\n",
       " 18.165195229996627,\n",
       " 7.329556595698092,\n",
       " 17.00805355415304,\n",
       " 20.98645022630737,\n",
       " 16.536194774308466,\n",
       " 18.66078752896899,\n",
       " 17.022022528930627,\n",
       " 27.946354920052126,\n",
       " 12.295152117974828,\n",
       " 7.074805049948809,\n",
       " 7.072476862470887,\n",
       " 8.244048838148595]"
      ]
     },
     "execution_count": 82,
     "metadata": {},
     "output_type": "execute_result"
    }
   ],
   "source": [
    "distance_from_pod_1"
   ]
  },
  {
   "cell_type": "code",
   "execution_count": 56,
   "metadata": {},
   "outputs": [
    {
     "data": {
      "text/plain": [
       "[0, 2, 5]"
      ]
     },
     "execution_count": 56,
     "metadata": {},
     "output_type": "execute_result"
    }
   ],
   "source": [
    "\n",
    "\n",
    "# area_high_priority = []\n",
    "# area_low_priority = []\n",
    "# for i in range(0,len(area_priority)):\n",
    "#     if area_priority[i]>2.5:\n",
    "#         area_high_priority.append(i)\n",
    "#     else:\n",
    "#         area_low_priority.append(i)\n",
    "# area_high_priority"
   ]
  },
  {
   "cell_type": "code",
   "execution_count": null,
   "metadata": {},
   "outputs": [],
   "source": [
    "distance_from_ware_house = []\n",
    "for i in range(0,len(df.area.unique())):\n",
    "    distance_from_ware_house.append(getDistance(area_lat[i],area_long[i]))\n",
    "distance_from_ware_house"
   ]
  },
  {
   "cell_type": "code",
   "execution_count": 163,
   "metadata": {},
   "outputs": [],
   "source": [
    "area_data.to_csv(\"../output/area_intermediate.csv\",index=None)"
   ]
  }
 ],
 "metadata": {
  "kernelspec": {
   "display_name": "Python 3",
   "language": "python",
   "name": "python3"
  },
  "language_info": {
   "codemirror_mode": {
    "name": "ipython",
    "version": 3
   },
   "file_extension": ".py",
   "mimetype": "text/x-python",
   "name": "python",
   "nbconvert_exporter": "python",
   "pygments_lexer": "ipython3",
   "version": "3.7.3"
  }
 },
 "nbformat": 4,
 "nbformat_minor": 2
}
